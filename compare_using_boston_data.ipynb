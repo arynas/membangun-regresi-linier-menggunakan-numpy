{
 "cells": [
  {
   "cell_type": "markdown",
   "id": "b9766c86-ce77-4264-a3b7-0092e6461a98",
   "metadata": {},
   "source": [
    "Panggil pustaka regresi linier yang sudah dibuat dan pustaka regresi linier milik *sklearn*. Selain itu panggil juga\n",
    "modul `load_diabetes` yang berfungsi memanggil dataset. Data tersebut akan digunakan untuk melakukan perbandingan.\n",
    "Modul `train_test_split` digunakan untuk melakukan pemisahan antara dataset yang digunakan ketika `training` dan `testing`. Untuk evaluasi kita perlu memanggil modul `mean_absolute_error` dan `mean_squared_error` yang sudah kita buat dan milik *sklearn*.\n",
    "Terakhir, pustaka `pandas` juga turut dipanggil untuk memvisualisasikan hasil perbandingan."
   ]
  },
  {
   "cell_type": "code",
   "execution_count": null,
   "id": "01935c34-a9e9-496a-84fe-fdb0a9ff1b5e",
   "metadata": {},
   "outputs": [],
   "source": [
    "import pandas as pd\n",
    "import linear_regression as lr\n",
    "import numpy as np\n",
    "from sklearn.datasets import load_boston\n",
    "from sklearn.model_selection import train_test_split\n",
    "from sklearn.linear_model import LinearRegression\n",
    "from sklearn.metrics import mean_absolute_error, mean_squared_error"
   ]
  },
  {
   "cell_type": "markdown",
   "id": "42676127-a14f-4bae-8a8d-dc75930013f5",
   "metadata": {},
   "source": [
    "Panggil *dataset*"
   ]
  },
  {
   "cell_type": "code",
   "execution_count": null,
   "id": "a47d05c7-1a5e-4161-bf13-e267d2792f51",
   "metadata": {},
   "outputs": [],
   "source": [
    "dataset = load_boston()"
   ]
  },
  {
   "cell_type": "markdown",
   "id": "5f76a56d-e948-4321-a347-d085fcab3f5a",
   "metadata": {},
   "source": [
    "Simpan fitur dan label pada variabel `X` dan label pada variabel `y`."
   ]
  },
  {
   "cell_type": "code",
   "execution_count": null,
   "id": "b8c98d18-0e1c-4c19-b1f5-9e47da1ec5eb",
   "metadata": {},
   "outputs": [],
   "source": [
    "X = dataset.data\n",
    "y = dataset.target"
   ]
  },
  {
   "cell_type": "markdown",
   "id": "e3a81b11-436a-48a1-bdbd-fd0a4ca7f6ff",
   "metadata": {},
   "source": [
    "Pisah variabel `X` dan `Y` dengan proporsi 30% (0.3). 70% untuk data *training*, 30% untuk data *testing*."
   ]
  },
  {
   "cell_type": "code",
   "execution_count": null,
   "id": "61d2a477-58dd-4d27-8e10-f7f36000aedf",
   "metadata": {},
   "outputs": [],
   "source": [
    "X_train, X_test, y_train, y_test = train_test_split(X, y, test_size=0.3, random_state=42)"
   ]
  },
  {
   "cell_type": "markdown",
   "id": "916883a6-5962-45c4-bbe1-b972529d02fa",
   "metadata": {},
   "source": [
    "*Fitting* data *training* dan *testing* di atas menggunakan modul regresi linier yang sudah dibuat dan modul regresi linier milik *sklearn*."
   ]
  },
  {
   "cell_type": "code",
   "execution_count": null,
   "id": "6fe3a672-260f-48db-aabc-3d1406a28d19",
   "metadata": {},
   "outputs": [],
   "source": [
    "our_regressor = lr.LinearRegression(X_train, y_train).fit()\n",
    "sklearn_regressor = LinearRegression().fit(X_train, y_train)"
   ]
  },
  {
   "cell_type": "markdown",
   "id": "51881ba1-0541-4975-82d3-a7f4a8a0a669",
   "metadata": {},
   "source": [
    "Nilai *Coefficients* dan nilai *Intercept* hasil dari proses *fitting*."
   ]
  },
  {
   "cell_type": "code",
   "execution_count": null,
   "id": "e87aa9c0-b427-4978-b05b-06c2ee006a04",
   "metadata": {},
   "outputs": [],
   "source": [
    "print('Our Coefficients: ', np.ravel(our_regressor.coef_))\n",
    "print('Our Intercept: ', our_regressor.intercept_[0])\n",
    "print()\n",
    "print('Sklearn Coefficients: ', sklearn_regressor.coef_)\n",
    "print('Sklearn Intercept: ', sklearn_regressor.intercept_)"
   ]
  },
  {
   "cell_type": "markdown",
   "id": "c7c4e0b1-f7a0-42d3-88fc-040bd5ac703a",
   "metadata": {},
   "source": [
    "Hitung nilai *R squared (coefficient of determination)* menggunakan modul yang sudah dibuat dan modul milik *sklearn*.\n",
    "Perhitungan tersebut diterapkan pada data *training* dan *testing* yang sudah ditentukan sebelumnya."
   ]
  },
  {
   "cell_type": "code",
   "execution_count": null,
   "id": "345c67ca-8860-4cc3-a94d-d04b3c6b1fa8",
   "metadata": {},
   "outputs": [],
   "source": [
    "our_train_accuracy = our_regressor.score(X_train, y_train)\n",
    "sklearn_train_accuracy = sklearn_regressor.score(X_train, y_train)\n",
    "\n",
    "our_test_accuracy = our_regressor.score(X_test, y_test)\n",
    "sklearn_test_accuracy = sklearn_regressor.score(X_test, y_test)"
   ]
  },
  {
   "cell_type": "markdown",
   "id": "89bf6390-df0b-4a46-b794-ccdc8605d245",
   "metadata": {},
   "source": [
    "Visualisasikan hasil evaluasi dengan Pandas.\n",
    "Hasilnya terlihat nilai *R squared (coefficient of determination)* dari *training* antara modul yang sudah dibuat dengan modul milik *sklearn* hampir sama. \n",
    "Sedangkan untuk nilai akurasi dari *testing* antara modul yang sudah dibuat dengan modul milik *sklearn* tidak terpaut jauh."
   ]
  },
  {
   "cell_type": "code",
   "execution_count": null,
   "id": "8dff8783-c59f-46b0-a8d2-5cdae3db67c1",
   "metadata": {},
   "outputs": [],
   "source": [
    "pd.DataFrame([[our_train_accuracy, sklearn_train_accuracy],\n",
    "              [our_test_accuracy, sklearn_test_accuracy]],\n",
    "             ['Training Accuracy', 'Test Accuracy'],    \n",
    "             ['Our Implementation', 'Sklearn\\'s Implementation'])"
   ]
  },
  {
   "cell_type": "markdown",
   "id": "062815ff-7c4c-422f-b027-ae6955d37687",
   "metadata": {},
   "source": [
    "Hitung nilai perhitungan evaluasi dengan *Mean Squared Error (MSE)* dan *Mean Absolute Error (MSE)* menggunakan modul regresi linier yang sudah dibuat dan modul regresi linier milik *sklearn*.\n",
    "Perhitungan tersebut diterapkan pada data *training* dan *testing* yang sudah ditentukan sebelumnya.\n",
    "Hasilnya terlihat nilai *Mean Squared Error (MSE)* dan *Mean Absolute Error (MSE)* antara modul yang sudah dibuat dengan modul milik *sklearn* hampir sama."
   ]
  },
  {
   "cell_type": "code",
   "execution_count": null,
   "id": "906e4143-d47c-44a7-88fe-86bd91dad18f",
   "metadata": {},
   "outputs": [],
   "source": [
    "y_pred = sklearn_regressor.predict(X_test)\n",
    "\n",
    "our_mean_squared_error = our_regressor.mean_squared_error()\n",
    "sklearn_mean_squared_error = mean_squared_error(y_test, y_pred)\n",
    "\n",
    "our_mean_absolute_error = our_regressor.mean_absolute_error()\n",
    "sklearn_mean_absolute_error = mean_absolute_error(y_test, y_pred)\n",
    "\n",
    "pd.DataFrame([[our_mean_squared_error, sklearn_mean_squared_error],\n",
    "              [our_mean_absolute_error, sklearn_mean_absolute_error]],\n",
    "             ['Mean Squared Error', 'Mean Absolute Error'],    \n",
    "             ['Our Implementation', 'Sklearn\\'s Implementation'])"
   ]
  }
 ],
 "metadata": {
  "kernelspec": {
   "display_name": "scratch_linear_regression",
   "language": "python",
   "name": "scratch_linear_regression"
  },
  "language_info": {
   "codemirror_mode": {
    "name": "ipython",
    "version": 3
   },
   "file_extension": ".py",
   "mimetype": "text/x-python",
   "name": "python",
   "nbconvert_exporter": "python",
   "pygments_lexer": "ipython3",
   "version": "3.7.0"
  }
 },
 "nbformat": 4,
 "nbformat_minor": 5
}